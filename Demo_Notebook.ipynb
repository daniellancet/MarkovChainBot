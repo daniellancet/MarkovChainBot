{
 "cells": [
  {
   "cell_type": "code",
   "execution_count": 15,
   "metadata": {},
   "outputs": [],
   "source": [
    "from ArtistTextGenerator import ArtistTextGenerator\n",
    "from TextMatrix import TextMatrix\n",
    "import glob\n",
    "import numpy as np"
   ]
  },
  {
   "cell_type": "code",
   "execution_count": 13,
   "metadata": {},
   "outputs": [],
   "source": [
    "paths =  glob.glob(\"/Users/daniellancet/Desktop/Projects/Markov_Chain_Beginner_Project/Song-Lyrics/Kendrick-Lamar/*\")\n",
    "generator = ArtistTextGenerator(paths)"
   ]
  },
  {
   "cell_type": "code",
   "execution_count": 26,
   "metadata": {},
   "outputs": [
    {
     "name": "stdout",
     "output_type": "stream",
     "text": [
      "janet jackson for a model to a fake humble lil\n",
      "swimmed in them numbers the streets wall of the microphone all i freaked it\n",
      "marilyn manson dont you in god boy ima blick niggas acting\n",
      "amateur they never had done 2teez told my life nanana every\n",
      "shot down but goddamn us if god spared your love it wont get you\n",
      "nice and called on a must be\n",
      "last year mississippi to commas bitch dont\n",
      "shoulders i found its casually done in that we\n",
      "amends then reciprocation karma and crime pack it in my\n",
      "peeled off the fire all day one would you high high like its\n",
      "instagram flicks suckin dick aint nobody in the hand\n",
      "conceal my vibe bitch im what is never get you\n",
      "creek and niggas and i got my dick or do a doctors approval is\n",
      "frat brother you aint free the like he crooked and i interrogated every nickel\n",
      "schools change to me obnoxious kept me askin where the pool full\n",
      "paper and a dark is\n",
      "buried in my dna tsefinam eht esrever emit a prisoner\n",
      "hero you haunt this young metro young throwed nigga\n",
      "lullabies that folded me i feel somethin i dont learn the fuck you lookin\n",
      "reaction 50k to feed your secrets every nigga like… nigga faded drank stand now and\n",
      "buku payments i’m the kids just call my song its\n",
      "dbo all if cole and in the throttle with the buildin woowoo aw\n",
      "provide for them stars are\n",
      "pandoras box me do i seen three nigga\n",
      "hieroglyphs just to kick it cadillac\n",
      "slimmer than a gangbanger i dont want problem and the mornin sun\n",
      "test my patience with me made his name is you get high\n",
      "chiraq the phone for you ¡abre la uhh my vouch maybe i quietly hope later\n",
      "wakanda flex yeah blow steam in flocks that she need cupid enforcin\n",
      "shine like i be the ass keep our\n"
     ]
    }
   ],
   "source": [
    "for i in range(30):\n",
    "    print(generator.build_text(10 + np.random.choice([-5, -4, -3, -2, -1, 0, 1, 2, 3, 4, 5])))\n",
    "\n"
   ]
  }
 ],
 "metadata": {
  "kernelspec": {
   "display_name": "Python 3",
   "language": "python",
   "name": "python3"
  },
  "language_info": {
   "codemirror_mode": {
    "name": "ipython",
    "version": 3
   },
   "file_extension": ".py",
   "mimetype": "text/x-python",
   "name": "python",
   "nbconvert_exporter": "python",
   "pygments_lexer": "ipython3",
   "version": "3.11.0"
  }
 },
 "nbformat": 4,
 "nbformat_minor": 2
}
